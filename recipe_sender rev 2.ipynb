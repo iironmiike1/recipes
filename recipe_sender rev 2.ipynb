{
 "cells": [
  {
   "cell_type": "code",
   "execution_count": 1,
   "id": "738a09f4-7f2e-4399-8e00-4de29c09369f",
   "metadata": {},
   "outputs": [],
   "source": [
    "# !pip install recipe-scrapers\n",
    "# !pip install yagmail"
   ]
  },
  {
   "cell_type": "code",
   "execution_count": 12,
   "id": "4001cac0-252d-4aee-9406-b53fe91d9291",
   "metadata": {
    "tags": []
   },
   "outputs": [],
   "source": [
    "debug_level = 0"
   ]
  },
  {
   "cell_type": "code",
   "execution_count": 13,
   "id": "c64842b6-56ce-42d7-ac74-edf410380b89",
   "metadata": {},
   "outputs": [],
   "source": [
    "from recipe_scrapers import scrape_me\n",
    "from datetime import datetime\n",
    "import os"
   ]
  },
  {
   "cell_type": "code",
   "execution_count": 14,
   "id": "2b7374fa-10f4-4d7b-9438-4df740794f64",
   "metadata": {},
   "outputs": [],
   "source": [
    "def debug1(debug_string):\n",
    "    if debug_level >= 1:\n",
    "        print('\\nDebug1:\\n' + debug_string)\n",
    "    return\n",
    "\n",
    "def debug2(debug_string):\n",
    "    if debug_level >= 2:\n",
    "        print('\\nDebug2:\\n' + debug_string)\n",
    "    return\n",
    "\n",
    "def debug3(debug_string):\n",
    "    if debug_level >= 3:\n",
    "        print('\\nDebug3:\\n' + debug_string)\n",
    "    return\n",
    "\n",
    "def debug4(debug_string):\n",
    "    if debug_level >= 4:\n",
    "        print('\\nDebug4:\\n' + debug_string)\n",
    "    return"
   ]
  },
  {
   "cell_type": "code",
   "execution_count": 15,
   "id": "56681484-8d6c-4eb8-8111-bca0685e5c3f",
   "metadata": {},
   "outputs": [],
   "source": [
    "from dotenv import load_dotenv\n",
    "\n",
    "load_dotenv()  # take environment variables from .env.\n",
    "password = os.environ.get(\"MYPASS\")\n",
    "debug4(password)"
   ]
  },
  {
   "cell_type": "code",
   "execution_count": 16,
   "id": "9d71a84c-e209-4322-b623-4e70369cbb19",
   "metadata": {},
   "outputs": [],
   "source": [
    "# import getpass\n",
    "\n",
    "# password = getpass.getpass(prompt = 'Enter the password')"
   ]
  },
  {
   "cell_type": "code",
   "execution_count": 17,
   "id": "e7da7b76-4c19-440c-b2d4-977df21824fd",
   "metadata": {},
   "outputs": [],
   "source": [
    "\n",
    "# datetime object containing current date and time\n",
    "right_now = datetime.now()\n",
    "\n",
    "# dd/mm/YY H:M:S\n",
    "dt_string = right_now.strftime(\"%d/%m/%Y %H:%M:%S\")\n",
    "debug4('Date and Time: ' + dt_string)"
   ]
  },
  {
   "cell_type": "code",
   "execution_count": 18,
   "id": "bed24754-22b7-4d12-8222-6a60a5926d1f",
   "metadata": {},
   "outputs": [],
   "source": [
    "def markup_recipe(rTitle,rURL,rImage,rIngredients,rInstructions):\n",
    "\n",
    "    now = datetime.now()\n",
    "    rDate = now.strftime(\"%m/%d/%Y %H:%M\")\n",
    "    \n",
    "    recipe_markup = 'Title: ' + rTitle + '<br>\\nDate: ' + rDate + '\\nCategory: Recipes<br>\\n'\n",
    "    recipe_markup = recipe_markup + '__[' + rTitle + ']('+ rURL + ')__<br>\\n'\n",
    "    recipe_markup = recipe_markup + \"\"\"<img src='\"\"\" + rImage + \"\"\"'><br>\\n\"\"\"\n",
    "    rIngredients = rIngredients.replace('\\n','<br>\\n')\n",
    "    recipe_markup = recipe_markup + '> ' + rIngredients + '<br>\\n\\n'\n",
    "    rInstructions = rInstructions.replace('\\n', '<br>\\n\\n1. ')\n",
    "    recipe_markup = recipe_markup + '1. ' + rInstructions\n",
    "    debug4(recipe_markup)\n",
    "    return(recipe_markup)\n",
    "   \n",
    "    "
   ]
  },
  {
   "cell_type": "code",
   "execution_count": 19,
   "id": "0bc82aa4-d36c-4d31-8d14-ad469b90eec9",
   "metadata": {},
   "outputs": [
    {
     "name": "stdin",
     "output_type": "stream",
     "text": [
      "Recipe URL: https://cooking.nytimes.com/recipes/1016595-hamburgers-diner-style\n"
     ]
    }
   ],
   "source": [
    "# Different ways to scrape during testing Comment out all but one\n",
    "\n",
    "# scraper=scrape_me('https://cooking.nytimes.com/recipes/1016595-hamburgers-diner-style')\n",
    "# scraper=scrape_me('https://cooking.nytimes.com/recipes/1022421-bulgogi-eggplant')\n",
    "# scraper=scrape_me('https://www.seriouseats.com/fish-fragrant-eggplants-sichuan-braised-eggplant-with-garlic-ginger-and-chilies')\n",
    "# scraper = scrape_me('https://www.seriouseats.com/grilled-shrimp-rolls-5195448?utm_campaign=seriouseats&utm_medium=email&utm_source=cn_nl&utm_content=24791524.124531&utm_term=')\n",
    "\n",
    "scraper = scrape_me(input('Recipe URL:'))"
   ]
  },
  {
   "cell_type": "code",
   "execution_count": 20,
   "id": "e40a04a5-8c46-431d-a086-df307cf9b142",
   "metadata": {},
   "outputs": [],
   "source": [
    "# Consolidate the recipe elements\n",
    "\n",
    "recipe_ingredients =scraper.ingredients()\n",
    "\n",
    "# Add a newline after each ingredient and convert the list to a string\n",
    "recipe_ing_temp = [sub + '\\n' for sub in recipe_ingredients]\n",
    "recipe_ingredients = ' '.join(recipe_ing_temp)\n",
    "\n",
    "recipe_title = scraper.title()\n",
    "recipe_instructions = scraper.instructions()\n",
    "recipe_image = scraper.image()\n",
    "recipe_URL = scraper.url\n",
    "recipe_site_name = scraper.site_name()\n",
    "\n",
    "formatted_recipe = markup_recipe(recipe_title, recipe_URL, recipe_image, recipe_ingredients, recipe_instructions)\n",
    "debug3(formatted_recipe)"
   ]
  },
  {
   "cell_type": "code",
   "execution_count": 21,
   "id": "fd3a818e-bd7f-4735-823c-6beedbeb0a1f",
   "metadata": {},
   "outputs": [],
   "source": [
    "\n",
    "\n",
    "# Change the current working directory to the Website content directory\n",
    "debug4(\"Original working directory: \" + os.getcwd())\n",
    "os.chdir('./Recipes_Website/content')\n",
    "debug4(\"Website content directory: \" + os.getcwd())\n",
    "\n",
    "with open(recipe_title + '.md', 'w',encoding=\"utf-8\") as writer:\n",
    "    writer.write(formatted_recipe)\n",
    "    writer.close()\n",
    "    \n",
    "# Restore the CWD to the original\n",
    "os.chdir('../../')\n",
    "debug4(\"Restored to Original working directory: \" + os.getcwd())\n"
   ]
  },
  {
   "cell_type": "code",
   "execution_count": 22,
   "id": "a9387403-1766-4c5e-8ebd-3d7fc4f7594b",
   "metadata": {},
   "outputs": [
    {
     "data": {
      "text/plain": [
       "{}"
      ]
     },
     "execution_count": 22,
     "metadata": {},
     "output_type": "execute_result"
    }
   ],
   "source": [
    "# Prettify the message payload\n",
    "\n",
    "message = recipe_title + '\\n\\n' + recipe_URL + '\\n\\n '\n",
    "\n",
    "recipe_instructions = recipe_instructions.replace('\\n','\\n\\n')\n",
    "\n",
    "# Assemble the full message\n",
    "message = message + recipe_ingredients + '\\n' + recipe_instructions\n",
    "\n",
    "# Is gmail filtering messages with offensive phrases? \n",
    "# if you change Asian to something different, it works.\n",
    "# See the yagmail example below for a different substitution\n",
    "\n",
    "message = message.replace('Asian', 'slender')\n",
    "\n",
    "# email setup and code from tutorial at https://realpython.com/python-send-email/\n",
    "\n",
    "sender_email = \"shapim919@gmail.com\"  # Enter your address\n",
    "receiver_email = \"iironmiike1@gmail.com\"  # Enter receiver address\n",
    "\n",
    "  # Simplified way  to send the message (from the same tutorial as above)\n",
    "\n",
    "import yagmail\n",
    "yag = yagmail.SMTP(sender_email, password)\n",
    "\n",
    "# remove 'Asian eggplant' from the recipe ingredients and it works. Go figure\n",
    "# (this is when using the Eggplant Bulgogi recipe)\n",
    "\n",
    "ings = recipe_ingredients.replace('Asian eggplant','slender eggplant')\n",
    "\n",
    "mixed_contents = [recipe_title, '\\n', recipe_URL,'\\n',recipe_image, '\\n', ings, '\\n', recipe_instructions]\n",
    "\n",
    "debug3(\" Email payload for yagmail:\\n\" + '\\n'.join(str(items) for items in mixed_contents))\n",
    "\n",
    "yag.send(receiver_email, recipe_title, mixed_contents)"
   ]
  },
  {
   "cell_type": "code",
   "execution_count": null,
   "id": "a4ad6820-69e7-4e79-ae03-1cb3456d0c87",
   "metadata": {},
   "outputs": [],
   "source": []
  }
 ],
 "metadata": {
  "kernelspec": {
   "display_name": "Python 3 (ipykernel)",
   "language": "python",
   "name": "python3"
  },
  "language_info": {
   "codemirror_mode": {
    "name": "ipython",
    "version": 3
   },
   "file_extension": ".py",
   "mimetype": "text/x-python",
   "name": "python",
   "nbconvert_exporter": "python",
   "pygments_lexer": "ipython3",
   "version": "3.9.6"
  }
 },
 "nbformat": 4,
 "nbformat_minor": 5
}
