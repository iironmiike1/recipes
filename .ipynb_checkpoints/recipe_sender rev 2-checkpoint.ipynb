{
 "cells": [
  {
   "cell_type": "code",
   "execution_count": 1,
   "id": "738a09f4-7f2e-4399-8e00-4de29c09369f",
   "metadata": {},
   "outputs": [
    {
     "name": "stdout",
     "output_type": "stream",
     "text": [
      "Defaulting to user installation because normal site-packages is not writeable\n",
      "Requirement already satisfied: recipe-scrapers in c:\\users\\iiron\\appdata\\roaming\\python\\python36\\site-packages (13.3.5)\n",
      "Requirement already satisfied: beautifulsoup4>=4.6.0 in c:\\users\\iiron\\appdata\\roaming\\python\\python36\\site-packages (from recipe-scrapers) (4.9.3)\n",
      "Requirement already satisfied: extruct>=0.8.0 in c:\\users\\iiron\\appdata\\roaming\\python\\python36\\site-packages (from recipe-scrapers) (0.13.0)\n",
      "Requirement already satisfied: requests>=2.19.1 in c:\\program files (x86)\\python36-32\\lib\\site-packages (from recipe-scrapers) (2.26.0)\n",
      "Requirement already satisfied: soupsieve>1.2 in c:\\users\\iiron\\appdata\\roaming\\python\\python36\\site-packages (from beautifulsoup4>=4.6.0->recipe-scrapers) (2.2.1)\n",
      "Requirement already satisfied: html-text>=0.5.1 in c:\\users\\iiron\\appdata\\roaming\\python\\python36\\site-packages (from extruct>=0.8.0->recipe-scrapers) (0.5.2)\n",
      "Requirement already satisfied: lxml in c:\\users\\iiron\\appdata\\roaming\\python\\python36\\site-packages (from extruct>=0.8.0->recipe-scrapers) (4.6.3)\n",
      "Requirement already satisfied: rdflib-jsonld in c:\\users\\iiron\\appdata\\roaming\\python\\python36\\site-packages (from extruct>=0.8.0->recipe-scrapers) (0.5.0)\n",
      "Requirement already satisfied: pyrdfa3 in c:\\users\\iiron\\appdata\\roaming\\python\\python36\\site-packages (from extruct>=0.8.0->recipe-scrapers) (3.5.3)\n",
      "Requirement already satisfied: six in c:\\program files (x86)\\python36-32\\lib\\site-packages (from extruct>=0.8.0->recipe-scrapers) (1.16.0)\n",
      "Requirement already satisfied: mf2py in c:\\users\\iiron\\appdata\\roaming\\python\\python36\\site-packages (from extruct>=0.8.0->recipe-scrapers) (1.1.2)\n",
      "Requirement already satisfied: jstyleson in c:\\users\\iiron\\appdata\\roaming\\python\\python36\\site-packages (from extruct>=0.8.0->recipe-scrapers) (0.0.2)\n",
      "Requirement already satisfied: w3lib in c:\\users\\iiron\\appdata\\roaming\\python\\python36\\site-packages (from extruct>=0.8.0->recipe-scrapers) (1.22.0)\n",
      "Requirement already satisfied: rdflib in c:\\users\\iiron\\appdata\\roaming\\python\\python36\\site-packages (from extruct>=0.8.0->recipe-scrapers) (5.0.0)\n",
      "Requirement already satisfied: charset-normalizer~=2.0.0 in c:\\program files (x86)\\python36-32\\lib\\site-packages (from requests>=2.19.1->recipe-scrapers) (2.0.4)\n",
      "Requirement already satisfied: idna<4,>=2.5 in c:\\program files (x86)\\python36-32\\lib\\site-packages (from requests>=2.19.1->recipe-scrapers) (3.2)\n",
      "Requirement already satisfied: urllib3<1.27,>=1.21.1 in c:\\users\\iiron\\appdata\\roaming\\python\\python36\\site-packages (from requests>=2.19.1->recipe-scrapers) (1.22)\n",
      "Requirement already satisfied: certifi>=2017.4.17 in c:\\users\\iiron\\appdata\\roaming\\python\\python36\\site-packages (from requests>=2.19.1->recipe-scrapers) (2017.11.5)\n",
      "Requirement already satisfied: html5lib>=1.0.1 in c:\\users\\iiron\\appdata\\roaming\\python\\python36\\site-packages (from mf2py->extruct>=0.8.0->recipe-scrapers) (1.1)\n",
      "Requirement already satisfied: webencodings in c:\\program files (x86)\\python36-32\\lib\\site-packages (from html5lib>=1.0.1->mf2py->extruct>=0.8.0->recipe-scrapers) (0.5.1)\n",
      "Requirement already satisfied: isodate in c:\\users\\iiron\\appdata\\roaming\\python\\python36\\site-packages (from rdflib->extruct>=0.8.0->recipe-scrapers) (0.6.0)\n",
      "Requirement already satisfied: pyparsing in c:\\program files (x86)\\python36-32\\lib\\site-packages (from rdflib->extruct>=0.8.0->recipe-scrapers) (2.4.7)\n",
      "Defaulting to user installation because normal site-packages is not writeable\n",
      "Requirement already satisfied: yagmail in c:\\users\\iiron\\appdata\\roaming\\python\\python36\\site-packages (0.14.256)\n",
      "Requirement already satisfied: premailer in c:\\users\\iiron\\appdata\\roaming\\python\\python36\\site-packages (from yagmail) (3.10.0)\n",
      "Requirement already satisfied: lxml in c:\\users\\iiron\\appdata\\roaming\\python\\python36\\site-packages (from premailer->yagmail) (4.6.3)\n",
      "Requirement already satisfied: cachetools in c:\\users\\iiron\\appdata\\roaming\\python\\python36\\site-packages (from premailer->yagmail) (4.2.2)\n",
      "Requirement already satisfied: requests in c:\\program files (x86)\\python36-32\\lib\\site-packages (from premailer->yagmail) (2.26.0)\n",
      "Requirement already satisfied: cssselect in c:\\users\\iiron\\appdata\\roaming\\python\\python36\\site-packages (from premailer->yagmail) (1.1.0)\n",
      "Requirement already satisfied: cssutils in c:\\users\\iiron\\appdata\\roaming\\python\\python36\\site-packages (from premailer->yagmail) (2.3.0)\n",
      "Requirement already satisfied: importlib-metadata in c:\\program files (x86)\\python36-32\\lib\\site-packages (from cssutils->premailer->yagmail) (4.6.3)\n",
      "Requirement already satisfied: typing-extensions>=3.6.4 in c:\\program files (x86)\\python36-32\\lib\\site-packages (from importlib-metadata->cssutils->premailer->yagmail) (3.10.0.0)\n",
      "Requirement already satisfied: zipp>=0.5 in c:\\program files (x86)\\python36-32\\lib\\site-packages (from importlib-metadata->cssutils->premailer->yagmail) (3.5.0)\n",
      "Requirement already satisfied: charset-normalizer~=2.0.0 in c:\\program files (x86)\\python36-32\\lib\\site-packages (from requests->premailer->yagmail) (2.0.4)\n",
      "Requirement already satisfied: idna<4,>=2.5 in c:\\program files (x86)\\python36-32\\lib\\site-packages (from requests->premailer->yagmail) (3.2)\n",
      "Requirement already satisfied: certifi>=2017.4.17 in c:\\users\\iiron\\appdata\\roaming\\python\\python36\\site-packages (from requests->premailer->yagmail) (2017.11.5)\n",
      "Requirement already satisfied: urllib3<1.27,>=1.21.1 in c:\\users\\iiron\\appdata\\roaming\\python\\python36\\site-packages (from requests->premailer->yagmail) (1.22)\n"
     ]
    }
   ],
   "source": [
    "!pip install recipe-scrapers\n",
    "!pip install yagmail"
   ]
  },
  {
   "cell_type": "code",
   "execution_count": 2,
   "id": "4001cac0-252d-4aee-9406-b53fe91d9291",
   "metadata": {},
   "outputs": [],
   "source": [
    "debug_level = 0"
   ]
  },
  {
   "cell_type": "code",
   "execution_count": 3,
   "id": "c64842b6-56ce-42d7-ac74-edf410380b89",
   "metadata": {},
   "outputs": [],
   "source": [
    "from recipe_scrapers import scrape_me\n",
    "from datetime import datetime"
   ]
  },
  {
   "cell_type": "code",
   "execution_count": 4,
   "id": "2b7374fa-10f4-4d7b-9438-4df740794f64",
   "metadata": {},
   "outputs": [],
   "source": [
    "def debug1(debug_string):\n",
    "    if debug_level >= 1:\n",
    "        print('\\nDebug1:\\n' + debug_string)\n",
    "    return\n",
    "\n",
    "def debug2(debug_string):\n",
    "    if debug_level >= 2:\n",
    "        print('\\nDebug2:\\n' + debug_string)\n",
    "    return\n",
    "\n",
    "def debug3(debug_string):\n",
    "    if debug_level >= 3:\n",
    "        print('\\nDebug3:\\n' + debug_string)\n",
    "    return\n",
    "\n",
    "def debug4(debug_string):\n",
    "    if debug_level >= 4:\n",
    "        print('\\nDebug4:\\n' + debug_string)\n",
    "    return"
   ]
  },
  {
   "cell_type": "code",
   "execution_count": 5,
   "id": "9d71a84c-e209-4322-b623-4e70369cbb19",
   "metadata": {},
   "outputs": [
    {
     "name": "stdin",
     "output_type": "stream",
     "text": [
      "Enter the password ·········\n"
     ]
    }
   ],
   "source": [
    "import getpass\n",
    "\n",
    "password = getpass.getpass(prompt = 'Enter the password')"
   ]
  },
  {
   "cell_type": "code",
   "execution_count": 6,
   "id": "e7da7b76-4c19-440c-b2d4-977df21824fd",
   "metadata": {},
   "outputs": [],
   "source": [
    "\n",
    "# datetime object containing current date and time\n",
    "right_now = datetime.now()\n",
    "\n",
    "# dd/mm/YY H:M:S\n",
    "dt_string = right_now.strftime(\"%d/%m/%Y %H:%M:%S\")\n",
    "debug4('Date and Time: ' + dt_string)"
   ]
  },
  {
   "cell_type": "code",
   "execution_count": 7,
   "id": "bed24754-22b7-4d12-8222-6a60a5926d1f",
   "metadata": {},
   "outputs": [],
   "source": [
    "def markup_recipe(rTitle,rURL,rImage,rIngredients,rInstructions):\n",
    "\n",
    "    now = datetime.now()\n",
    "    rDate = now.strftime(\"%m/%d/%Y %H:%M\")\n",
    "    \n",
    "    recipe_markup = 'Title: ' + rTitle + '\\nDate:' + rDate + '\\nCategory: Recipes\\n'\n",
    "    recipe_markup = recipe_markup + '__[' + rTitle + ']('+ rURL + ')__\\n'\n",
    "    recipe_markup = recipe_markup + \"\"\"<img src='\"\"\" + rURL + \"\"\"'>\\n'\"\"\"\n",
    "    recipe_markup = recipe_markup + '> ' + rIngredients + '\\n'\n",
    "    rInstructions = rInstructions.replace('\\n', '\\n1. ')\n",
    "    recipe_markup = recipe_markup + '1. ' + rInstructions\n",
    "    debug2(recipe_markup)\n",
    "   \n",
    "    "
   ]
  },
  {
   "cell_type": "code",
   "execution_count": 8,
   "id": "718db375-a70b-47a9-a19d-649c509ec470",
   "metadata": {},
   "outputs": [
    {
     "name": "stdin",
     "output_type": "stream",
     "text": [
      "Recipe URL: https://www.seriouseats.com/fish-fragrant-eggplants-sichuan-braised-eggplant-with-garlic-ginger-and-chilies\n"
     ]
    },
    {
     "name": "stderr",
     "output_type": "stream",
     "text": [
      "ERROR:extruct._extruct:Failed to extract json-ld, raises Expecting value: line 1 column 1 (char 0)\n",
      "Traceback (most recent call last):\n",
      "  File \"C:\\Users\\iiron\\AppData\\Roaming\\Python\\Python36\\site-packages\\extruct\\_extruct.py\", line 108, in extract\n",
      "    output[syntax] = list(extract(document, base_url=base_url))\n",
      "  File \"C:\\Users\\iiron\\AppData\\Roaming\\Python\\Python36\\site-packages\\extruct\\jsonld.py\", line 27, in extract_items\n",
      "    for items in map(self._extract_items, self._xp_jsonld(document))\n",
      "  File \"C:\\Users\\iiron\\AppData\\Roaming\\Python\\Python36\\site-packages\\extruct\\jsonld.py\", line 28, in <listcomp>\n",
      "    if items for item in items if item\n",
      "  File \"C:\\Users\\iiron\\AppData\\Roaming\\Python\\Python36\\site-packages\\extruct\\jsonld.py\", line 38, in _extract_items\n",
      "    data = jstyleson.loads(HTML_OR_JS_COMMENTLINE.sub('', script), strict=False)\n",
      "  File \"C:\\Users\\iiron\\AppData\\Roaming\\Python\\Python36\\site-packages\\jstyleson.py\", line 123, in loads\n",
      "    return json.loads(dispose(text), **kwargs)\n",
      "  File \"C:\\Program Files (x86)\\Python36-32\\lib\\json\\__init__.py\", line 367, in loads\n",
      "    return cls(**kw).decode(s)\n",
      "  File \"C:\\Program Files (x86)\\Python36-32\\lib\\json\\decoder.py\", line 339, in decode\n",
      "    obj, end = self.raw_decode(s, idx=_w(s, 0).end())\n",
      "  File \"C:\\Program Files (x86)\\Python36-32\\lib\\json\\decoder.py\", line 357, in raw_decode\n",
      "    raise JSONDecodeError(\"Expecting value\", s, err.value) from None\n",
      "json.decoder.JSONDecodeError: Expecting value: line 1 column 1 (char 0)\n"
     ]
    },
    {
     "data": {
      "text/plain": [
       "{}"
      ]
     },
     "execution_count": 8,
     "metadata": {},
     "output_type": "execute_result"
    }
   ],
   "source": [
    "\n",
    "\n",
    "# Different ways to scrape during testing Comment out all but one\n",
    "\n",
    "# scraper=scrape_me('https://cooking.nytimes.com/recipes/1016595-hamburgers-diner-style')\n",
    "# scraper=scrape_me('https://cooking.nytimes.com/recipes/1022421-bulgogi-eggplant')\n",
    "# scraper=scrape_me('https://www.seriouseats.com/fish-fragrant-eggplants-sichuan-braised-eggplant-with-garlic-ginger-and-chilies')\n",
    "\n",
    "scraper = scrape_me(input('Recipe URL:'))\n",
    "\n",
    "# Consolidate the recipe elements\n",
    "\n",
    "recipe_ingredients =scraper.ingredients()\n",
    "\n",
    "# Add a newline after each ingredient and convert the list to a string\n",
    "recipe_ing_temp = [sub + '\\n' for sub in recipe_ingredients]\n",
    "recipe_ingredients = ' '.join(recipe_ing_temp)\n",
    "\n",
    "recipe_title = scraper.title()\n",
    "recipe_instructions = scraper.instructions()\n",
    "recipe_image = scraper.image()\n",
    "recipe_URL = scraper.url\n",
    "recipe_site_name = scraper.site_name()\n",
    "\n",
    "markup_recipe(recipe_title, recipe_URL, recipe_image, recipe_ingredients, recipe_instructions)\n",
    "\n",
    "# Prettify the message payload\n",
    "\n",
    "message = recipe_title + '\\n\\n' + recipe_URL + '\\n\\n '\n",
    "\n",
    "recipe_instructions = recipe_instructions.replace('\\n','\\n\\n')\n",
    "\n",
    "# Assemble the full message\n",
    "message = message + recipe_ingredients + '\\n' + recipe_instructions\n",
    "\n",
    "# Is gmail filtering messages with offensive phrases? \n",
    "# if you change Asian to something different, it works.\n",
    "# See the yagmail example below for a different substitution\n",
    "\n",
    "message = message.replace('Asian', 'slender')\n",
    "\n",
    "# email setup and code from tutorial at https://realpython.com/python-send-email/\n",
    "\n",
    "sender_email = \"shapim919@gmail.com\"  # Enter your address\n",
    "receiver_email = \"iironmiike1@gmail.com\"  # Enter receiver address\n",
    "\n",
    "  # Simplified way  to send the message (from the same tutorial as above)\n",
    "\n",
    "import yagmail\n",
    "yag = yagmail.SMTP(sender_email, password)\n",
    "\n",
    "# remove 'Asian eggplant' from the recipe ingredients and it works. Go figure\n",
    "# (this is when using the Eggplant Bulgogi recipe)\n",
    "\n",
    "ings = recipe_ingredients.replace('Asian eggplant','slender eggplant')\n",
    "\n",
    "mixed_contents = [recipe_title, '\\n', recipe_URL,'\\n',recipe_image, '\\n', ings, '\\n', recipe_instructions]\n",
    "\n",
    "debug3(\" Email payload for yagmail:\\n\" + '\\n'.join(str(items) for items in mixed_contents))\n",
    "\n",
    "yag.send(receiver_email, recipe_title, mixed_contents)\n",
    "\n"
   ]
  },
  {
   "cell_type": "code",
   "execution_count": 13,
   "id": "0bf34603-5b64-4f3a-85f2-e1926e65c3f5",
   "metadata": {},
   "outputs": [
    {
     "data": {
      "text/plain": [
       "'Fuchsia Dunlop'"
      ]
     },
     "execution_count": 13,
     "metadata": {},
     "output_type": "execute_result"
    }
   ],
   "source": [
    "scraper.author()"
   ]
  },
  {
   "cell_type": "code",
   "execution_count": 16,
   "id": "66a6e7e8-3d95-4efa-9255-49af524952e0",
   "metadata": {},
   "outputs": [
    {
     "data": {
      "text/plain": [
       "\u001b[1;31mSignature:\u001b[0m \u001b[0mscraper\u001b[0m\u001b[1;33m.\u001b[0m\u001b[0mingredients\u001b[0m\u001b[1;33m(\u001b[0m\u001b[1;33m)\u001b[0m\u001b[1;33m\u001b[0m\u001b[0m\n",
       "\u001b[1;31mDocstring:\u001b[0m <no docstring>\n",
       "\u001b[1;31mSource:\u001b[0m   \n",
       "    \u001b[1;32mdef\u001b[0m \u001b[0mingredients\u001b[0m\u001b[1;33m(\u001b[0m\u001b[0mself\u001b[0m\u001b[1;33m)\u001b[0m\u001b[1;33m:\u001b[0m\u001b[1;33m\n",
       "\u001b[0m        \u001b[0mingredients\u001b[0m \u001b[1;33m=\u001b[0m \u001b[0mself\u001b[0m\u001b[1;33m.\u001b[0m\u001b[0msoup\u001b[0m\u001b[1;33m.\u001b[0m\u001b[0mfindAll\u001b[0m\u001b[1;33m(\u001b[0m\u001b[1;34m\"li\"\u001b[0m\u001b[1;33m,\u001b[0m \u001b[1;33m{\u001b[0m\u001b[1;34m\"class\"\u001b[0m\u001b[1;33m:\u001b[0m \u001b[1;34m\"ingredient\"\u001b[0m\u001b[1;33m}\u001b[0m\u001b[1;33m)\u001b[0m\u001b[1;33m\n",
       "\u001b[0m        \u001b[1;32mreturn\u001b[0m \u001b[1;33m[\u001b[0m\u001b[0mnormalize_string\u001b[0m\u001b[1;33m(\u001b[0m\u001b[0mingredient\u001b[0m\u001b[1;33m.\u001b[0m\u001b[0mget_text\u001b[0m\u001b[1;33m(\u001b[0m\u001b[1;33m)\u001b[0m\u001b[1;33m)\u001b[0m \u001b[1;32mfor\u001b[0m \u001b[0mingredient\u001b[0m \u001b[1;32min\u001b[0m \u001b[0mingredients\u001b[0m\u001b[1;33m]\u001b[0m\u001b[1;33m\u001b[0m\u001b[0m\n",
       "\u001b[1;31mFile:\u001b[0m      c:\\users\\iiron\\appdata\\roaming\\python\\python36\\site-packages\\recipe_scrapers\\seriouseats.py\n",
       "\u001b[1;31mType:\u001b[0m      method\n"
      ]
     },
     "metadata": {},
     "output_type": "display_data"
    }
   ],
   "source": [
    "scraper.ingredients??"
   ]
  },
  {
   "cell_type": "code",
   "execution_count": null,
   "id": "8d917bea-2c14-4922-bb95-403fa69e2119",
   "metadata": {},
   "outputs": [],
   "source": []
  }
 ],
 "metadata": {
  "kernelspec": {
   "display_name": "Python 3",
   "language": "python",
   "name": "python3"
  },
  "language_info": {
   "codemirror_mode": {
    "name": "ipython",
    "version": 3
   },
   "file_extension": ".py",
   "mimetype": "text/x-python",
   "name": "python",
   "nbconvert_exporter": "python",
   "pygments_lexer": "ipython3",
   "version": "3.6.4"
  }
 },
 "nbformat": 4,
 "nbformat_minor": 5
}
